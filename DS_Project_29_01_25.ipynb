{
  "nbformat": 4,
  "nbformat_minor": 0,
  "metadata": {
    "colab": {
      "provenance": [],
      "toc_visible": true,
      "authorship_tag": "ABX9TyMyNQu881JuN7360heWs2sS",
      "include_colab_link": true
    },
    "kernelspec": {
      "name": "python3",
      "display_name": "Python 3"
    },
    "language_info": {
      "name": "python"
    }
  },
  "cells": [
    {
      "cell_type": "markdown",
      "metadata": {
        "id": "view-in-github",
        "colab_type": "text"
      },
      "source": [
        "<a href=\"https://colab.research.google.com/github/seamusmack/Jane_Street_RMF/blob/main/DS_Project_29_01_25.ipynb\" target=\"_parent\"><img src=\"https://colab.research.google.com/assets/colab-badge.svg\" alt=\"Open In Colab\"/></a>"
      ]
    },
    {
      "cell_type": "code",
      "source": [
        "!pip install pandas-profiling"
      ],
      "metadata": {
        "colab": {
          "base_uri": "https://localhost:8080/"
        },
        "id": "xU9qfZNUPezJ",
        "outputId": "d5ae7e65-180b-413a-e4d2-8a1d6664cfba"
      },
      "execution_count": 6,
      "outputs": [
        {
          "output_type": "stream",
          "name": "stdout",
          "text": [
            "Requirement already satisfied: pandas-profiling in /usr/local/lib/python3.11/dist-packages (3.2.0)\n",
            "Requirement already satisfied: joblib~=1.1.0 in /usr/local/lib/python3.11/dist-packages (from pandas-profiling) (1.1.1)\n",
            "Requirement already satisfied: scipy>=1.4.1 in /usr/local/lib/python3.11/dist-packages (from pandas-profiling) (1.13.1)\n",
            "Requirement already satisfied: pandas!=1.0.0,!=1.0.1,!=1.0.2,!=1.1.0,>=0.25.3 in /usr/local/lib/python3.11/dist-packages (from pandas-profiling) (2.2.2)\n",
            "Requirement already satisfied: matplotlib>=3.2.0 in /usr/local/lib/python3.11/dist-packages (from pandas-profiling) (3.10.0)\n",
            "Requirement already satisfied: pydantic>=1.8.1 in /usr/local/lib/python3.11/dist-packages (from pandas-profiling) (2.10.6)\n",
            "Requirement already satisfied: PyYAML>=5.0.0 in /usr/local/lib/python3.11/dist-packages (from pandas-profiling) (6.0.2)\n",
            "Requirement already satisfied: jinja2>=2.11.1 in /usr/local/lib/python3.11/dist-packages (from pandas-profiling) (3.1.5)\n",
            "Requirement already satisfied: markupsafe~=2.1.1 in /usr/local/lib/python3.11/dist-packages (from pandas-profiling) (2.1.5)\n",
            "Requirement already satisfied: visions==0.7.4 in /usr/local/lib/python3.11/dist-packages (from visions[type_image_path]==0.7.4->pandas-profiling) (0.7.4)\n",
            "Requirement already satisfied: numpy>=1.16.0 in /usr/local/lib/python3.11/dist-packages (from pandas-profiling) (1.26.4)\n",
            "Requirement already satisfied: htmlmin>=0.1.12 in /usr/local/lib/python3.11/dist-packages (from pandas-profiling) (0.1.12)\n",
            "Requirement already satisfied: missingno>=0.4.2 in /usr/local/lib/python3.11/dist-packages (from pandas-profiling) (0.5.2)\n",
            "Requirement already satisfied: phik>=0.11.1 in /usr/local/lib/python3.11/dist-packages (from pandas-profiling) (0.12.4)\n",
            "Requirement already satisfied: tangled-up-in-unicode==0.2.0 in /usr/local/lib/python3.11/dist-packages (from pandas-profiling) (0.2.0)\n",
            "Requirement already satisfied: requests>=2.24.0 in /usr/local/lib/python3.11/dist-packages (from pandas-profiling) (2.32.3)\n",
            "Requirement already satisfied: tqdm>=4.48.2 in /usr/local/lib/python3.11/dist-packages (from pandas-profiling) (4.67.1)\n",
            "Requirement already satisfied: seaborn>=0.10.1 in /usr/local/lib/python3.11/dist-packages (from pandas-profiling) (0.13.2)\n",
            "Requirement already satisfied: multimethod>=1.4 in /usr/local/lib/python3.11/dist-packages (from pandas-profiling) (2.0)\n",
            "Requirement already satisfied: attrs>=19.3.0 in /usr/local/lib/python3.11/dist-packages (from visions==0.7.4->visions[type_image_path]==0.7.4->pandas-profiling) (25.1.0)\n",
            "Requirement already satisfied: networkx>=2.4 in /usr/local/lib/python3.11/dist-packages (from visions==0.7.4->visions[type_image_path]==0.7.4->pandas-profiling) (3.4.2)\n",
            "Requirement already satisfied: imagehash in /usr/local/lib/python3.11/dist-packages (from visions[type_image_path]==0.7.4->pandas-profiling) (4.3.1)\n",
            "Requirement already satisfied: Pillow in /usr/local/lib/python3.11/dist-packages (from visions[type_image_path]==0.7.4->pandas-profiling) (11.1.0)\n",
            "Requirement already satisfied: contourpy>=1.0.1 in /usr/local/lib/python3.11/dist-packages (from matplotlib>=3.2.0->pandas-profiling) (1.3.1)\n",
            "Requirement already satisfied: cycler>=0.10 in /usr/local/lib/python3.11/dist-packages (from matplotlib>=3.2.0->pandas-profiling) (0.12.1)\n",
            "Requirement already satisfied: fonttools>=4.22.0 in /usr/local/lib/python3.11/dist-packages (from matplotlib>=3.2.0->pandas-profiling) (4.55.6)\n",
            "Requirement already satisfied: kiwisolver>=1.3.1 in /usr/local/lib/python3.11/dist-packages (from matplotlib>=3.2.0->pandas-profiling) (1.4.8)\n",
            "Requirement already satisfied: packaging>=20.0 in /usr/local/lib/python3.11/dist-packages (from matplotlib>=3.2.0->pandas-profiling) (24.2)\n",
            "Requirement already satisfied: pyparsing>=2.3.1 in /usr/local/lib/python3.11/dist-packages (from matplotlib>=3.2.0->pandas-profiling) (3.2.1)\n",
            "Requirement already satisfied: python-dateutil>=2.7 in /usr/local/lib/python3.11/dist-packages (from matplotlib>=3.2.0->pandas-profiling) (2.8.2)\n",
            "Requirement already satisfied: pytz>=2020.1 in /usr/local/lib/python3.11/dist-packages (from pandas!=1.0.0,!=1.0.1,!=1.0.2,!=1.1.0,>=0.25.3->pandas-profiling) (2024.2)\n",
            "Requirement already satisfied: tzdata>=2022.7 in /usr/local/lib/python3.11/dist-packages (from pandas!=1.0.0,!=1.0.1,!=1.0.2,!=1.1.0,>=0.25.3->pandas-profiling) (2025.1)\n",
            "Requirement already satisfied: annotated-types>=0.6.0 in /usr/local/lib/python3.11/dist-packages (from pydantic>=1.8.1->pandas-profiling) (0.7.0)\n",
            "Requirement already satisfied: pydantic-core==2.27.2 in /usr/local/lib/python3.11/dist-packages (from pydantic>=1.8.1->pandas-profiling) (2.27.2)\n",
            "Requirement already satisfied: typing-extensions>=4.12.2 in /usr/local/lib/python3.11/dist-packages (from pydantic>=1.8.1->pandas-profiling) (4.12.2)\n",
            "Requirement already satisfied: charset-normalizer<4,>=2 in /usr/local/lib/python3.11/dist-packages (from requests>=2.24.0->pandas-profiling) (3.4.1)\n",
            "Requirement already satisfied: idna<4,>=2.5 in /usr/local/lib/python3.11/dist-packages (from requests>=2.24.0->pandas-profiling) (3.10)\n",
            "Requirement already satisfied: urllib3<3,>=1.21.1 in /usr/local/lib/python3.11/dist-packages (from requests>=2.24.0->pandas-profiling) (2.3.0)\n",
            "Requirement already satisfied: certifi>=2017.4.17 in /usr/local/lib/python3.11/dist-packages (from requests>=2.24.0->pandas-profiling) (2024.12.14)\n",
            "Requirement already satisfied: six>=1.5 in /usr/local/lib/python3.11/dist-packages (from python-dateutil>=2.7->matplotlib>=3.2.0->pandas-profiling) (1.17.0)\n",
            "Requirement already satisfied: PyWavelets in /usr/local/lib/python3.11/dist-packages (from imagehash->visions[type_image_path]==0.7.4->pandas-profiling) (1.8.0)\n"
          ]
        }
      ]
    },
    {
      "cell_type": "code",
      "source": [
        "from urllib.request import urlretrieve"
      ],
      "metadata": {
        "id": "i-xQto_APerE"
      },
      "execution_count": 7,
      "outputs": []
    },
    {
      "cell_type": "code",
      "source": [
        "medical_charges_url = 'https://raw.githubusercontent.com/JovianML/opendatasets/master/data/medical-charges.csv'"
      ],
      "metadata": {
        "id": "rTFAmTG8PcuV"
      },
      "execution_count": 9,
      "outputs": []
    },
    {
      "cell_type": "code",
      "source": [
        "urlretrieve(medical_charges_url, 'medical.csv')"
      ],
      "metadata": {
        "colab": {
          "base_uri": "https://localhost:8080/"
        },
        "id": "vES58SNAPsqq",
        "outputId": "d6c7eb83-d20f-4062-8c01-154a2f7c450d"
      },
      "execution_count": 11,
      "outputs": [
        {
          "output_type": "execute_result",
          "data": {
            "text/plain": [
              "('medical.csv', <http.client.HTTPMessage at 0x7863a44fe710>)"
            ]
          },
          "metadata": {},
          "execution_count": 11
        }
      ]
    }
  ]
}